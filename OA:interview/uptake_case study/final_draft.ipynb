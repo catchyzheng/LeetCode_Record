{
 "cells": [
  {
   "cell_type": "code",
   "execution_count": 1,
   "metadata": {},
   "outputs": [
    {
     "name": "stderr",
     "output_type": "stream",
     "text": [
      "/anaconda2/lib/python2.7/site-packages/IPython/core/interactiveshell.py:2714: DtypeWarning: Columns (8) have mixed types. Specify dtype option on import or set low_memory=False.\n",
      "  interactivity=interactivity, compiler=compiler, result=result)\n"
     ]
    }
   ],
   "source": [
    "import pandas as pd\n",
    "import numpy as np\n",
    "\n",
    "df = pd.read_csv('data/train.csv')\n",
    "\n"
   ]
  },
  {
   "cell_type": "code",
   "execution_count": 6,
   "metadata": {},
   "outputs": [
    {
     "data": {
      "text/plain": [
       "0         0.0\n",
       "1         0.0\n",
       "2         0.0\n",
       "3         1.0\n",
       "4         0.0\n",
       "5         0.0\n",
       "6         0.0\n",
       "7         0.0\n",
       "8         0.0\n",
       "9         0.0\n",
       "10        0.0\n",
       "11        0.0\n",
       "12        0.0\n",
       "13        0.0\n",
       "14        0.0\n",
       "15        0.0\n",
       "16        0.0\n",
       "17        0.0\n",
       "18        0.0\n",
       "19        0.0\n",
       "20        0.0\n",
       "21        0.0\n",
       "22        1.0\n",
       "23        0.0\n",
       "24        0.0\n",
       "25        0.0\n",
       "26        0.0\n",
       "27        0.0\n",
       "28        1.0\n",
       "29        0.0\n",
       "         ... \n",
       "182160    0.0\n",
       "182161    0.0\n",
       "182162    0.0\n",
       "182163    0.0\n",
       "182164    0.0\n",
       "182165    0.0\n",
       "182166    0.0\n",
       "182167    1.0\n",
       "182168    0.0\n",
       "182169    0.0\n",
       "182170    0.0\n",
       "182171    0.0\n",
       "182172    0.0\n",
       "182173    0.0\n",
       "182174    0.0\n",
       "182175    0.0\n",
       "182176    0.0\n",
       "182177    0.0\n",
       "182178    0.0\n",
       "182179    0.0\n",
       "182180    0.0\n",
       "182181    0.0\n",
       "182182    0.0\n",
       "182183    0.0\n",
       "182184    0.0\n",
       "182185    0.0\n",
       "182186    0.0\n",
       "182187    0.0\n",
       "182188    0.0\n",
       "182189    0.0\n",
       "Name: amount, Length: 182190, dtype: float64"
      ]
     },
     "execution_count": 6,
     "metadata": {},
     "output_type": "execute_result"
    }
   ],
   "source": [
    "df['amount']"
   ]
  },
  {
   "cell_type": "code",
   "execution_count": 3,
   "metadata": {},
   "outputs": [],
   "source": [
    "df[df == ' '] = np.nan\n",
    "df['amount'] = df['amount'].fillna(0)"
   ]
  },
  {
   "cell_type": "code",
   "execution_count": 4,
   "metadata": {},
   "outputs": [
    {
     "name": "stderr",
     "output_type": "stream",
     "text": [
      "/anaconda2/lib/python2.7/site-packages/ipykernel_launcher.py:1: SettingWithCopyWarning: \n",
      "A value is trying to be set on a copy of a slice from a DataFrame\n",
      "\n",
      "See the caveats in the documentation: http://pandas.pydata.org/pandas-docs/stable/indexing.html#indexing-view-versus-copy\n",
      "  \"\"\"Entry point for launching an IPython kernel.\n"
     ]
    }
   ],
   "source": [
    "df['amount'][df['amount'] > 0] = 1"
   ]
  },
  {
   "cell_type": "code",
   "execution_count": 7,
   "metadata": {},
   "outputs": [],
   "source": [
    "df = df.dropna(axis=1, thresh=df.shape[0]//2 + 1)\n",
    "for col in df.columns:\n",
    "    df[col] = df[col].fillna(df[col].value_counts().keys()[0])\n",
    "    if df[col].dtype == 'object':\n",
    "        df[col] = pd.factorize(df[col])[0]"
   ]
  },
  {
   "cell_type": "code",
   "execution_count": 8,
   "metadata": {},
   "outputs": [
    {
     "data": {
      "text/plain": [
       "Index([u'date', u'source', u'title', u'state', u'zip', u'dob', u'noexch',\n",
       "       u'mdmaud', u'domain', u'cluster',\n",
       "       ...\n",
       "       u'amount', u'hphone_d', u'rfa_2r', u'rfa_2f', u'rfa_2a', u'mdmaud_r',\n",
       "       u'mdmaud_f', u'mdmaud_a', u'cluster2', u'geocode2'],\n",
       "      dtype='object', length=382)"
      ]
     },
     "execution_count": 8,
     "metadata": {},
     "output_type": "execute_result"
    }
   ],
   "source": [
    "df.columns"
   ]
  },
  {
   "cell_type": "code",
   "execution_count": 9,
   "metadata": {},
   "outputs": [
    {
     "data": {
      "text/plain": [
       "(182190, 382)"
      ]
     },
     "execution_count": 9,
     "metadata": {},
     "output_type": "execute_result"
    }
   ],
   "source": [
    "df.shape"
   ]
  },
  {
   "cell_type": "code",
   "execution_count": 10,
   "metadata": {},
   "outputs": [
    {
     "name": "stdout",
     "output_type": "stream",
     "text": [
      "(182190, 382)\n"
     ]
    }
   ],
   "source": [
    "m = df.shape[0] # row\n",
    "n = df.shape[1] # col\n",
    "\n",
    "from sklearn.cluster import KMeans\n",
    "random_state = 170\n",
    "\n",
    "print df.shape\n",
    "y = KMeans(n_clusters=2, random_state=random_state).fit_predict(df)\n"
   ]
  },
  {
   "cell_type": "code",
   "execution_count": 11,
   "metadata": {},
   "outputs": [
    {
     "name": "stdout",
     "output_type": "stream",
     "text": [
      "91112\n"
     ]
    }
   ],
   "source": [
    "output = open('output.txt', 'w+')\n",
    "print >>output, y\n",
    "print y.sum()"
   ]
  },
  {
   "cell_type": "code",
   "execution_count": 12,
   "metadata": {},
   "outputs": [
    {
     "data": {
      "text/plain": [
       "9249.0"
      ]
     },
     "execution_count": 12,
     "metadata": {},
     "output_type": "execute_result"
    }
   ],
   "source": [
    "sum(df['amount'])"
   ]
  },
  {
   "cell_type": "code",
   "execution_count": 33,
   "metadata": {},
   "outputs": [
    {
     "name": "stdout",
     "output_type": "stream",
     "text": [
      "(182190,)\n",
      "(182190, 380)\n"
     ]
    }
   ],
   "source": [
    "df.drop(columns=['responded'], inplace = True)\n",
    "train_label = df['amount']\n",
    "df2 = pd.DataFrame()\n",
    "for attri in df.columns:\n",
    "    if attri != 'amount':\n",
    "        df2[attri] = df[attri]\n",
    "train_data = df2\n",
    "print train_label.shape\n",
    "print train_data.shape"
   ]
  },
  {
   "cell_type": "code",
   "execution_count": 34,
   "metadata": {},
   "outputs": [
    {
     "name": "stdout",
     "output_type": "stream",
     "text": [
      "[0.95098524 0.95150667 0.94996981 0.94994237 0.95029914]\n"
     ]
    }
   ],
   "source": [
    "from sklearn.model_selection import ShuffleSplit\n",
    "from sklearn.ensemble import GradientBoostingClassifier\n",
    "from sklearn.model_selection import cross_val_score\n",
    "\n",
    "clf = GradientBoostingClassifier(n_estimators=100, learning_rate=1.0, max_depth=1, random_state=0).fit(np.array(train_data), np.array(train_label))\n",
    "\n",
    "cv = ShuffleSplit(n_splits=5, test_size=0.2, random_state=0)\n",
    "scores = cross_val_score(clf, train_data, train_label, cv = cv)\n",
    "print scores"
   ]
  },
  {
   "cell_type": "code",
   "execution_count": 36,
   "metadata": {},
   "outputs": [
    {
     "data": {
      "text/plain": [
       "(9589, 480)"
      ]
     },
     "execution_count": 36,
     "metadata": {},
     "output_type": "execute_result"
    }
   ],
   "source": [
    "test = pd.read_csv('data/test.csv')\n",
    "\n",
    "test.shape\n",
    "#clf.predict()"
   ]
  },
  {
   "cell_type": "code",
   "execution_count": 37,
   "metadata": {},
   "outputs": [],
   "source": [
    "temp = list(test.columns)\n",
    "for col in temp:\n",
    "    if col not in df.columns:\n",
    "        #print(col)\n",
    "        test = test.drop(columns=[col])"
   ]
  },
  {
   "cell_type": "code",
   "execution_count": 38,
   "metadata": {},
   "outputs": [
    {
     "data": {
      "text/plain": [
       "(9589, 380)"
      ]
     },
     "execution_count": 38,
     "metadata": {},
     "output_type": "execute_result"
    }
   ],
   "source": [
    "test.shape"
   ]
  },
  {
   "cell_type": "code",
   "execution_count": 44,
   "metadata": {},
   "outputs": [],
   "source": [
    "for col in test.columns:\n",
    "    test[col] = test[col].fillna(df[col].value_counts().keys()[0])\n",
    "    if test[col].dtype == 'object':\n",
    "        test[col] = pd.factorize(test[col])[0]"
   ]
  },
  {
   "cell_type": "code",
   "execution_count": 45,
   "metadata": {},
   "outputs": [
    {
     "name": "stdout",
     "output_type": "stream",
     "text": [
      "      date  source  title  state   zip   dob  noexch  mdmaud  domain  cluster  \\\n",
      "0     9301       0      1      0     0  2001       0       0       0        0   \n",
      "1     9101       1   1002      1     1     0       0       0       1        1   \n",
      "2     8601       2      0      2     2  4305       0       0       2        2   \n",
      "3     8601       3      0      3     3     0       0       0       0        3   \n",
      "4     9501       4      0      4     4  4201       0       0       2        2   \n",
      "5     9401       5      0      5     5  3501       0       0       1        4   \n",
      "6     8601       6      0      6     6  2401       0       0       3        5   \n",
      "7     9401       7      2      7     7  2401       0       0       4        6   \n",
      "8     9001       8      1      1     8  2712       0       0       5        7   \n",
      "9     8601       3      2      8     9     0       0       0       2        8   \n",
      "10    8801       9      0      1    10     0       0       0       6        9   \n",
      "11    9001       1     28      9    11  4004       0       0       7       10   \n",
      "12    8601       3      0     10    12  2401       0       0       5        7   \n",
      "13    9601      10      1      8    13     0       0       0       2       11   \n",
      "14    8701      11     28     11    14  2108       0       0       1       12   \n",
      "15    9601      12      2     11    15     0       0       0       5       13   \n",
      "16    9101      13      0      6    16  1507       0       0       2       14   \n",
      "17    9201       9   1002     12    17     0       0       0       0       15   \n",
      "18    9101      10      1     13    18  3502       0       0       8       16   \n",
      "19    9601      14      0      2    19     0       0       0       5       17   \n",
      "20    9501      15     28     14    20  3001       0       0       4       18   \n",
      "21    9201      14      0      1    21   801       0       0       9       19   \n",
      "22    9001       2      1      3    22  3801       0       0       6       20   \n",
      "23    9001      16      2     15    23  3801       0       0       0       21   \n",
      "24    8601      17      0     16    24  1201       0       0       6       20   \n",
      "25    8901      18      2     17    25     0       0       0       0       21   \n",
      "26    9501      19      1      7    26  2801       0       0       0       21   \n",
      "27    9201      20      2     11    27  3601       0       0       1       22   \n",
      "28    9501      21      2      1    28  5001       0       0       1       23   \n",
      "29    9101      22      0      1    29  6201       0       0      10       24   \n",
      "...    ...     ...    ...    ...   ...   ...     ...     ...     ...      ...   \n",
      "9559  8801       9   1002     17  2902  2809       0       0      10       36   \n",
      "9560  9101      16      0     21   179  6001       0       0       1        4   \n",
      "9561  9501      37     28     19  1860     0       0       0       0       21   \n",
      "9562  9401     126      0      1  6009     0       0       0       6       44   \n",
      "9563  8601     190      0      9  6010  2507       0       0       4       49   \n",
      "9564  9101       2      1      4  6011  3201       0       0       4       18   \n",
      "9565  8601       3      0      1  6012  1103       0       0       5       40   \n",
      "9566  9001      60      0     22  6013     0       0       0       8       45   \n",
      "9567  8601     131      2     14  4067  1002       0       0       7       10   \n",
      "9568  9401      60      0      4  5441  5101       0       0       0        3   \n",
      "9569  9201      25      1      0  6014     0       0       0       3       51   \n",
      "9570  8901      57   1002      3  4011  6108       0       0       0       21   \n",
      "9571  8801       9      0     14  5362  4802       0       0       4       18   \n",
      "9572  8701      85      1     22  6015  5105       0       0       1        1   \n",
      "9573  9301      21     28     14  3966  4501       0       0      10       36   \n",
      "9574  8901      92      0      3  4522     0       0       0       0       15   \n",
      "9575  9301     166   1002     22  5999  5202       0       0      10       24   \n",
      "9576  8901     509      0     14  6016     0       0       0       6       41   \n",
      "9577  9001       1      0      1   890  2506       0       0      11       39   \n",
      "9578  9601      34      0      9  2409  3601       0       0       9       19   \n",
      "9579  8901     185     28     22  6017  5811       0       0       0       15   \n",
      "9580  8601      11      2      1  1672     0       0       0       6       20   \n",
      "9581  9501      14      0     33  3868  4601       0       0       6       20   \n",
      "9582  8601       3      0     11   143  5710       0       0      12       28   \n",
      "9583  9401     133      0      5  6018     0       0       0       0       15   \n",
      "9584  8601      28      1     15  6019  3801       0       0       2       14   \n",
      "9585  8601      14      2     11  2234   810       0       0       6       41   \n",
      "9586  9601     324      1      1   274  3201       0       0       0       15   \n",
      "9587  9501     100      0      1  6020     0       0       0       5       17   \n",
      "9588  9501      68     28      3  6021  4601       0       0       4       18   \n",
      "\n",
      "        ...         id  hphone_d  rfa_2r  rfa_2f  rfa_2a  mdmaud_r  mdmaud_f  \\\n",
      "0       ...     182190         1       0       2       0         0         0   \n",
      "1       ...     182191         0       0       1       0         0         0   \n",
      "2       ...     182192         0       0       3       1         0         0   \n",
      "3       ...     182193         0       0       4       1         0         0   \n",
      "4       ...     182194         0       0       1       0         0         0   \n",
      "5       ...     182195         1       0       1       0         0         0   \n",
      "6       ...     182196         1       0       1       0         0         0   \n",
      "7       ...     182197         0       0       1       0         0         0   \n",
      "8       ...     182198         0       0       1       0         0         0   \n",
      "9       ...     182199         1       0       1       0         0         0   \n",
      "10      ...     182200         0       0       4       2         0         0   \n",
      "11      ...     182201         0       0       1       0         0         0   \n",
      "12      ...     182202         1       0       2       2         0         0   \n",
      "13      ...     182203         0       0       1       3         0         0   \n",
      "14      ...     182204         1       0       3       2         0         0   \n",
      "15      ...     182205         1       0       2       0         0         0   \n",
      "16      ...     182206         0       0       2       0         0         0   \n",
      "17      ...     182207         1       0       3       2         0         0   \n",
      "18      ...     182208         0       0       1       3         0         0   \n",
      "19      ...     182209         0       0       1       0         0         0   \n",
      "20      ...     182210         0       0       4       0         0         0   \n",
      "21      ...     182211         0       0       3       0         0         0   \n",
      "22      ...     182212         1       0       4       2         0         0   \n",
      "23      ...     182213         1       0       4       1         0         0   \n",
      "24      ...     182214         1       0       4       0         0         0   \n",
      "25      ...     182215         1       0       2       2         0         0   \n",
      "26      ...     182216         1       0       1       0         0         0   \n",
      "27      ...     182217         1       0       3       2         0         0   \n",
      "28      ...     182218         1       0       3       2         0         0   \n",
      "29      ...     182219         1       0       2       0         0         0   \n",
      "...     ...        ...       ...     ...     ...     ...       ...       ...   \n",
      "9559    ...     191749         0       0       2       0         0         0   \n",
      "9560    ...     191750         1       0       2       2         0         0   \n",
      "9561    ...     191751         1       0       4       2         0         0   \n",
      "9562    ...     191752         0       0       2       0         0         0   \n",
      "9563    ...     191753         1       0       1       3         0         0   \n",
      "9564    ...     191754         1       0       4       1         0         0   \n",
      "9565    ...     191755         0       0       2       3         0         0   \n",
      "9566    ...     191756         0       0       2       0         0         0   \n",
      "9567    ...     191757         0       0       2       2         0         0   \n",
      "9568    ...     191758         1       0       2       0         0         0   \n",
      "9569    ...     191759         0       0       1       3         0         0   \n",
      "9570    ...     191760         1       0       2       2         0         0   \n",
      "9571    ...     191761         0       0       2       0         0         0   \n",
      "9572    ...     191762         0       0       1       0         0         0   \n",
      "9573    ...     191763         1       0       1       0         0         0   \n",
      "9574    ...     191764         0       0       1       0         0         0   \n",
      "9575    ...     191765         1       0       1       0         0         0   \n",
      "9576    ...     191766         0       0       4       2         0         0   \n",
      "9577    ...     191767         1       0       1       0         0         0   \n",
      "9578    ...     191768         0       0       2       0         0         0   \n",
      "9579    ...     191769         1       0       2       2         0         0   \n",
      "9580    ...     191770         1       0       1       0         0         0   \n",
      "9581    ...     191771         1       0       4       2         0         0   \n",
      "9582    ...     191772         0       0       1       2         0         0   \n",
      "9583    ...     191773         0       0       4       2         0         0   \n",
      "9584    ...     191774         0       0       4       1         0         0   \n",
      "9585    ...     191775         0       0       1       3         0         0   \n",
      "9586    ...     191776         0       0       1       0         0         0   \n",
      "9587    ...     191777         0       0       2       0         0         0   \n",
      "9588    ...     191778         0       0       1       0         0         0   \n",
      "\n",
      "      mdmaud_a  cluster2  geocode2  \n",
      "0            0      52.0         0  \n",
      "1            0      24.0         1  \n",
      "2            0      59.0         2  \n",
      "3            0      59.0         2  \n",
      "4            0      60.0         2  \n",
      "5            0       4.0         3  \n",
      "6            0      51.0         3  \n",
      "7            0      62.0         2  \n",
      "8            0      12.0         1  \n",
      "9            0      55.0         2  \n",
      "10           0      25.0         1  \n",
      "11           0      25.0         3  \n",
      "12           0      32.0         3  \n",
      "13           0      43.0         3  \n",
      "14           0       2.0         1  \n",
      "15           0      13.0         1  \n",
      "16           0      61.0         2  \n",
      "17           0      41.0         3  \n",
      "18           0      29.0         1  \n",
      "19           0      36.0         1  \n",
      "20           0      51.0         0  \n",
      "21           0      11.0         1  \n",
      "22           0       5.0         3  \n",
      "23           0      38.0         3  \n",
      "24           0      28.0         3  \n",
      "25           0      38.0         3  \n",
      "26           0      38.0         3  \n",
      "27           0       1.0         1  \n",
      "28           0       3.0         1  \n",
      "29           0      36.0         3  \n",
      "...        ...       ...       ...  \n",
      "9559         0      16.0         3  \n",
      "9560         0      12.0         3  \n",
      "9561         0      37.0         0  \n",
      "9562         0      21.0         1  \n",
      "9563         0      62.0         2  \n",
      "9564         0      44.0         2  \n",
      "9565         0      46.0         1  \n",
      "9566         0      10.0         1  \n",
      "9567         0      26.0         3  \n",
      "9568         0      54.0         0  \n",
      "9569         0      13.0         3  \n",
      "9570         0      41.0         3  \n",
      "9571         0      52.0         1  \n",
      "9572         0      17.0         3  \n",
      "9573         0      11.0         1  \n",
      "9574         0      38.0         0  \n",
      "9575         0      33.0         1  \n",
      "9576         0      23.0         1  \n",
      "9577         0       9.0         1  \n",
      "9578         0      15.0         3  \n",
      "9579         0      17.0         1  \n",
      "9580         0      20.0         1  \n",
      "9581         0      20.0         3  \n",
      "9582         0      47.0         1  \n",
      "9583         0      56.0         3  \n",
      "9584         0      61.0         2  \n",
      "9585         0      22.0         1  \n",
      "9586         0      41.0         0  \n",
      "9587         0      11.0         1  \n",
      "9588         0      60.0         2  \n",
      "\n",
      "[9589 rows x 380 columns]\n"
     ]
    }
   ],
   "source": [
    "print test"
   ]
  },
  {
   "cell_type": "code",
   "execution_count": 46,
   "metadata": {},
   "outputs": [
    {
     "name": "stdout",
     "output_type": "stream",
     "text": [
      "[0. 0. 0. ... 0. 0. 0.]\n"
     ]
    }
   ],
   "source": [
    "predict = clf.predict(test)\n",
    "print predict"
   ]
  },
  {
   "cell_type": "code",
   "execution_count": 47,
   "metadata": {},
   "outputs": [
    {
     "data": {
      "text/plain": [
       "0.0"
      ]
     },
     "execution_count": 47,
     "metadata": {},
     "output_type": "execute_result"
    }
   ],
   "source": [
    "predict.sum()"
   ]
  },
  {
   "cell_type": "code",
   "execution_count": 49,
   "metadata": {},
   "outputs": [],
   "source": []
  }
 ],
 "metadata": {
  "kernelspec": {
   "display_name": "Python 2",
   "language": "python",
   "name": "python2"
  },
  "language_info": {
   "codemirror_mode": {
    "name": "ipython",
    "version": 2
   },
   "file_extension": ".py",
   "mimetype": "text/x-python",
   "name": "python",
   "nbconvert_exporter": "python",
   "pygments_lexer": "ipython2",
   "version": "2.7.15"
  }
 },
 "nbformat": 4,
 "nbformat_minor": 2
}
